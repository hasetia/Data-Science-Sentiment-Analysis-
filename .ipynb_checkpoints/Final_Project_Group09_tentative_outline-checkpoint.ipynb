{
 "cells": [
  {
   "cell_type": "markdown",
   "metadata": {},
   "source": [
    "# COGS 108 - Final Project "
   ]
  },
  {
   "cell_type": "markdown",
   "metadata": {},
   "source": [
    "\n",
    "\n",
    "\n",
    "# Coronavirus, A Political Statement? \n",
    "\n",
    "\n",
    "# <font color='red'>tentative title, remember to delete/update all red notes"
   ]
  },
  {
   "cell_type": "markdown",
   "metadata": {},
   "source": [
    "## Permissions"
   ]
  },
  {
   "cell_type": "markdown",
   "metadata": {},
   "source": [
    "Place an `X` in the appropriate bracket below to specify if you would like your group's project to be made available to the public. (Note that PIDs will be scraped from the public submission, but student names will be included.)\n",
    "\n",
    "* [  ] YES - make available\n",
    "* [  ] NO - keep private"
   ]
  },
  {
   "cell_type": "markdown",
   "metadata": {},
   "source": [
    "# Overviewfoo <font color='red'>[add time frame because that’s important in relation to the reopening of states in present time]"
   ]
  },
  {
   "cell_type": "markdown",
   "metadata": {},
   "source": [
    "Our project explores the official COVID-19 message updates from different populous college campuses across the United States. From the nine University of California campuses, located in California, a popular blue state, five college campuses in Texas, a popular red state, and five college campuses in Florida, a well known swing state, we attempted to measure the sentiments of these campus messages in order to analyze how states with different political ideologies are handling the virus and ensuring the safety and trust of their students. Creating csv files of messages per school and including the date and word count, we used a sentiment analysis approach and the Vader lexicon in order to analyze the sentiments of the messages. To accordingly track the progression of the sentiments in campus responses with the virus, we also paralleled the dates of the messages with the dates of the official COVID-19 confirmed cases [only include this if in the end, it supplements our report]. [If we do UC vs UC add it here and then change sentence 2 somehow so it states why we did all 9 UC’s] We found that _______."
   ]
  },
  {
   "cell_type": "markdown",
   "metadata": {},
   "source": [
    "# Names\n",
    "\n",
    "- Dillon Ford\n",
    "- Dylan Nelson\n",
    "- Thi Nguyen\n",
    "- Harpreet Setia\n",
    "- Bryant Tran\n"
   ]
  },
  {
   "cell_type": "markdown",
   "metadata": {},
   "source": [
    "# Group Members IDs\n",
    "\n",
    "- A16092047\n",
    "- A15492704\n",
    "- A13802850\n",
    "- A14731093\n",
    "- A15404815\n"
   ]
  },
  {
   "cell_type": "markdown",
   "metadata": {},
   "source": [
    "# Research Question"
   ]
  },
  {
   "cell_type": "markdown",
   "metadata": {},
   "source": [
    "Is there any variation in the severity of college campus’s messages across states of different political stances? Does this reflect how different political parties are paying attention to the trajectory of COVID-19?"
   ]
  },
  {
   "cell_type": "markdown",
   "metadata": {},
   "source": [
    "## Background and Prior Work"
   ]
  },
  {
   "cell_type": "markdown",
   "metadata": {},
   "source": [
    "- Amidst the COVID-19 pandemic, it is essential to pay attention and stay up to date with reports on the ongoing crisis from our trusted leaders and officials. With this shared anxiety across the United States, people turn to their trusted state leaders in order to stay up to date with the trajectory of the virus as well as what precautions to take. As different state leaders with different ideologies are implementing different policies that they deem appropriate, this affects the updates and policies college campuses are reporting to their students to ensure their trust and safety. \n",
    "\tWithin the course of this pandemic so far, it is apparent that different states are handling the spread of COVID-19 inconsistently. As the confirmed cases rapidly increased in America in mid March, states administered different shelter in place, lockdown, social distancing, and essential activity restrictions in order to reduce and slow down the spread of the virus. As 43 states administered these restrictions to varying degrees, 7 states (Arkansas, Iowa, Nebraska, North Dakota, South Dakota, Utah, and Wyoming) that are all red states, did not impose stay at home or essential activity restrictions to aid in combating the virus’s spread (1). However, we chose the state of Texas to represent our data for a red state due to the campus populations paralleling better with the state of California.\n",
    "\n",
    "\n",
    "- Although the rest of the states imposed restrictions, they varied in degree in what was still allowed to be open and to what extent they were to be closed. This included large gathering activities involving the opening beaches and of course, schools. Many college campuses responded to COVID-19 by canceling in-person instruction and converting to a remote format indefinitely while others implemented plans to stay open or planned to re-open. The variance in college responses to COVID-19 reflect the policies administered by their respective state [location] (2). \n",
    "\tPrior work has been done on the different ways colleges are responding to the pandemic when they have to take into consideration factors of how students congregate which affects the spread, their age group which affects the danger of the spread on campus, and how to relay information back to students on the changes being made which will affect the course of their future, all while also abiding by their state guidelines. This included redesigning the trajectory of the higher education system to report back to students what to expect in relation to where their state is in combating an unpredictable pandemic. Changes must be made because of this relation including disappointingly halting study abroad programs which could affect thousands of students, the structure of transitioning to remote classes at such short notice, how to make resources accessible, how long remote classes are expected to last, and what the future of in-person instruction could look like (3). The primary focus that colleges have during this pandemic is to relieve students and their families from any school related stress and instill trust into them. While doing this however, it is also crucial to ensure that college campuses are reacting accordingly and updating students as the colleges themselves receive information on the actual severity of the virus from trusted higher officials (4). \n",
    "\n",
    "-\n",
    "-\n",
    "\n",
    "1) https://ballotpedia.org/States_that_did_not_issue_lockdown_or_stay-at-home_orders_in_response_to_the_coronavirus_(COVID-19)_pandemic,_2020\n",
    " - This source details which states drastically differed in restrictions\n",
    "\n",
    "2) https://www.insidehighered.com/news/2020/03/12/why-are-some-colleges-closing-over-virus-concerns-while-others-stay-open\n",
    " - This source highlights the trajectory of different college campus instructions in relation to their state guidelines \n",
    "\n",
    "3) https://www.npr.org/2020/03/06/812462913/6-ways-universities-are-responding-to-coronavirus\n",
    " - This podcast calls attention to the challenges of providing campus updates regarding the pandemic while still following state orders and recommendations\n",
    "\n",
    "4) https://www.washingtonpost.com/lifestyle/2020/03/16/college-parents-coronavirus/ \n",
    " - This article presents the importance of college campuses communicating with their students and their families to ease panic but while maintaining a realistic approach to how their state predicts the pandemic\n"
   ]
  },
  {
   "cell_type": "markdown",
   "metadata": {},
   "source": [
    "# Hypothesis\n",
    "\n",
    "# <font color='red'>update this"
   ]
  },
  {
   "cell_type": "markdown",
   "metadata": {},
   "source": [
    "Our hypothesis predicts that the communication between college campuses and their students in the red state will be _____ while the communication between college campuses and their students in the blue state will be _____. [Swing state?] <- Will said this makes sense but we might be tying in too much"
   ]
  },
  {
   "cell_type": "markdown",
   "metadata": {},
   "source": [
    "# Dataset(s)"
   ]
  },
  {
   "cell_type": "markdown",
   "metadata": {},
   "source": [
    "Each dataset was created through Excel with individual team members collecting coronavirus annoucement info and compiling the information by hand from school websites. We plan to combine the datasets of different colleges within the three different states we chose in order to sufficiently differentiate any discrepancies in sentiments across states of contrasting political ideologies. This was done by importing the operating system module in python and joining separate university datasets through a for loop. \n",
    "\n",
    "- Dataset Name: allSchools.csv\n",
    "  - Link to the dataset: https://github.com/COGS108/group09_sp20/tree/master/Other%20Notebooks\n",
    "  - Number of observations: 899 rows and 6 columns\n",
    "  - Description: Collection of all school COVID-19 announcements with dates, school names, word counts, the state it originated from, and numerical values for the month (starting with 1 for January). This dataset was cleaned and formatted with data from the other individual datasets shown below.    \n",
    "&nbsp;\n",
    "\n",
    "- This is the link for all datasets shown below: https://github.com/COGS108/group09_sp20/tree/master/Datasets\n",
    "\n",
    "  - Dataset Name: Florida_State_University.csv\n",
    "    - Number of observations: 41 rows\n",
    "    - Description: Date of each coronavirus annoucement along with the full text.\n",
    "\n",
    "  - Dataset Name: Texas_State_University.csv\n",
    "    - Number of observations: 46 rows\n",
    "    - Description: Date of each coronavirus annoucement along with the full text.\n",
    "\n",
    "  - Dataset Name: UC_Davis.csv\n",
    "    - Number of observations: 44 rows\n",
    "    - Description: Date of each coronavirus annoucement along with the full text and school name.\n",
    "\n",
    "  - Dataset Name: UCF.csv\n",
    "    - Number of observations: 66 rows\n",
    "    - Description: Date of each coronavirus annoucement along with the full text and link.\n",
    "\n",
    "  - Dataset Name: UC_Berkeley.csv\n",
    "    - Number of observations: 57 rows\n",
    "    - Description: Date of each coronavirus annoucement along with the full text, link, school name, and word count.\n",
    "\n",
    "  - Dataset Name: UC_Irvine.csv\n",
    "    - Number of observations: 105 rows\n",
    "    - Description: Date of each coronavirus annoucement along with the full text, school name, and word count.\n",
    "\n",
    "  - Dataset Name: UC_Los_Angeles.csv\n",
    "    - Number of observations: 37 rows\n",
    "    - Description: Date of each coronavirus annoucement along with the full text, school name, and word count.\n",
    "    \n",
    "  - Dataset Name: UC_Merced.csv\n",
    "    - Number of observations: 73\n",
    "    - Description: Date of each coronavirus annoucement along with the full text, school name, and word count.\n",
    "    \n",
    "  - Dataset Name: UC_Riverside.csv\n",
    "    - Number of observations: 56 rows\n",
    "    - Description: Date of each coronavirus annoucement along with the full text, school name, and word count.\n",
    "    \n",
    "  - Dataset Name: UC_San_Diego.csv\n",
    "    - Number of observations: 46 rows\n",
    "    - Description: Date of each coronavirus annoucement along with the full text, school name, and word count.\n",
    "    \n",
    "  - Dataset Name: UC_Santa_Barbara.csv\n",
    "    - Number of observations: 17 rows\n",
    "    - Description: Date of each coronavirus annoucement along with the full text, school name, link, and word count.\n",
    "    \n",
    "  - Dataset Name: UC_Santa_Cruz.csv\n",
    "    - Number of observations: 67 rows\n",
    "    - Description: Date of each coronavirus annoucement along with the full text, school name, and word count.\n",
    "    \n",
    "  - Dataset Name: UNT.csv\n",
    "    - Number of observations: 57 rows \n",
    "    - Description: Date of each coronavirus annoucement along with the full text, school name, link, and word count.\n",
    "    \n",
    "  - Dataset Name: USoFlorida\n",
    "    - Number of observations: 30 rows\n",
    "    - Description: Date of each coronavirus annoucement along with the full text, school name, and word count.\n",
    "    \n",
    "  - Dataset Name: U_T&M.csv\n",
    "    - Number of observations: 32 rows\n",
    "    - Description: Date of each coronavirus annoucement along with the full text, school name.\n",
    "    \n",
    "  - Dataset Name: Univeristy_Austin_Texas.csv\n",
    "    - Number of observations: 28 rows\n",
    "    - Description: Date of each coronavirus annoucement along with the full text, school name.\n",
    "    \n",
    "  - Dataset Name: University_Florida.csv\n",
    "    - Number of observations: 32 rows\n",
    "    - Description: Date of each coronavirus annoucement along with the full text, and school name.\n",
    "    \n",
    "  - Dataset Name: University_Houston.csv\n",
    "    - Number of observations: 29 rows \n",
    "    - Description: Date of each coronavirus annoucement along with the full text, school name.\n",
    "    \n",
    "  - Dataset Name: University_Miami.csv\n",
    "    - Number of observations: 39 rows\n",
    "    - Description: Date of each coronavirus annoucement along with the full text, school name."
   ]
  },
  {
   "cell_type": "markdown",
   "metadata": {},
   "source": [
    "# Setup"
   ]
  },
  {
   "cell_type": "code",
   "execution_count": 10,
   "metadata": {},
   "outputs": [
    {
     "name": "stderr",
     "output_type": "stream",
     "text": [
      "[nltk_data] Downloading package vader_lexicon to C:\\Users\\Bryant\n",
      "[nltk_data]     Tran\\AppData\\Roaming\\nltk_data...\n",
      "[nltk_data]   Package vader_lexicon is already up-to-date!\n"
     ]
    }
   ],
   "source": [
    "# Import libraries\n",
    "import numpy as np\n",
    "import pandas as pd\n",
    "import matplotlib.pyplot as plt\n",
    "import seaborn as sns\n",
    "import patsy\n",
    "import statsmodels.api as sm\n",
    "import os\n",
    "\n",
    "#Used in data cleaning\n",
    "import os\n",
    "import re\n",
    "\n",
    "#import natural language toolkit\n",
    "import nltk\n",
    "\n",
    "# get lexicon we'll be working with today\n",
    "nltk.download('vader_lexicon') \n",
    "\n",
    "## import word tokenizer\n",
    "from nltk.tokenize import word_tokenize\n",
    "from nltk.sentiment.vader import SentimentIntensityAnalyzer\n",
    "\n",
    "# Display plots directly in the notebook instead of in a new window\n",
    "%matplotlib inline\n",
    "\n",
    "import warnings\n",
    "warnings.filterwarnings('ignore')"
   ]
  },
  {
   "cell_type": "markdown",
   "metadata": {},
   "source": [
    "# <font color='red'> Just a heads up I didnt add the imports from the webscrapping notebook idk if we're using them for this project. (Remember to delete this cell before submitting)\n",
    "    \n",
    "    \n",
    "# <font color='red'> also thi mentioned something about how we cleaned up the question marks and odd symbols I'm not sure where to put that"
   ]
  },
  {
   "cell_type": "markdown",
   "metadata": {},
   "source": [
    "# Data Cleaning"
   ]
  },
  {
   "cell_type": "code",
   "execution_count": 14,
   "metadata": {},
   "outputs": [
    {
     "ename": "FileNotFoundError",
     "evalue": "[WinError 3] The system cannot find the path specified: '../Datasets'",
     "output_type": "error",
     "traceback": [
      "\u001b[1;31m---------------------------------------------------------------------------\u001b[0m",
      "\u001b[1;31mFileNotFoundError\u001b[0m                         Traceback (most recent call last)",
      "\u001b[1;32m<ipython-input-14-cb7fa62ec2e0>\u001b[0m in \u001b[0;36m<module>\u001b[1;34m\u001b[0m\n\u001b[1;32m----> 1\u001b[1;33m \u001b[0mfiles\u001b[0m \u001b[1;33m=\u001b[0m \u001b[0mos\u001b[0m\u001b[1;33m.\u001b[0m\u001b[0mlistdir\u001b[0m\u001b[1;33m(\u001b[0m\u001b[1;34m'../Datasets'\u001b[0m\u001b[1;33m)\u001b[0m\u001b[1;33m\u001b[0m\u001b[1;33m\u001b[0m\u001b[0m\n\u001b[0m\u001b[0;32m      2\u001b[0m \u001b[0mallSchools\u001b[0m \u001b[1;33m=\u001b[0m \u001b[0mpd\u001b[0m\u001b[1;33m.\u001b[0m\u001b[0mDataFrame\u001b[0m\u001b[1;33m(\u001b[0m\u001b[0mcolumns\u001b[0m \u001b[1;33m=\u001b[0m \u001b[1;33m[\u001b[0m\u001b[1;34m'school'\u001b[0m\u001b[1;33m,\u001b[0m \u001b[1;34m'date'\u001b[0m\u001b[1;33m,\u001b[0m \u001b[1;34m'content'\u001b[0m\u001b[1;33m]\u001b[0m\u001b[1;33m)\u001b[0m\u001b[1;33m\u001b[0m\u001b[1;33m\u001b[0m\u001b[0m\n\u001b[0;32m      3\u001b[0m \u001b[1;32mfor\u001b[0m \u001b[0mi\u001b[0m \u001b[1;32min\u001b[0m \u001b[0mfiles\u001b[0m\u001b[1;33m:\u001b[0m\u001b[1;33m\u001b[0m\u001b[1;33m\u001b[0m\u001b[0m\n\u001b[0;32m      4\u001b[0m     \u001b[1;32mif\u001b[0m \u001b[1;34m'.csv'\u001b[0m \u001b[1;32min\u001b[0m \u001b[0mi\u001b[0m\u001b[1;33m:\u001b[0m\u001b[1;33m\u001b[0m\u001b[1;33m\u001b[0m\u001b[0m\n\u001b[0;32m      5\u001b[0m         \u001b[1;32mtry\u001b[0m\u001b[1;33m:\u001b[0m\u001b[1;33m\u001b[0m\u001b[1;33m\u001b[0m\u001b[0m\n",
      "\u001b[1;31mFileNotFoundError\u001b[0m: [WinError 3] The system cannot find the path specified: '../Datasets'"
     ]
    }
   ],
   "source": [
    "files = os.listdir('../Datasets')\n",
    "allSchools = pd.DataFrame(columns = ['school', 'date', 'content'])\n",
    "for i in files:\n",
    "    if '.csv' in i:\n",
    "        try:\n",
    "            filepath = os.path.join('..','Datasets', i)\n",
    "            frame = pd.read_csv(filepath)[['school', 'date', 'content']] \n",
    "            allSchools = pd.concat([allSchools, frame])\n",
    "        except:\n",
    "            print('Error with: '.ljust(30) + i)\n",
    "            try:\n",
    "                filepath = os.path.join('..','Datasets', i)\n",
    "                frame = pd.read_csv(filepath, encoding='latin-1')[['school', 'date', 'content']]  \n",
    "                allSchools = pd.concat([allSchools, frame])\n",
    "                print((\"Encoding to Latin **DID** Work for: \".ljust(30) + i))\n",
    "            except:\n",
    "                print((\"Encoding DID **NOT** Work for: \".ljust(30) + i))"
   ]
  },
  {
   "cell_type": "markdown",
   "metadata": {},
   "source": [
    "# Data Analysis & Results"
   ]
  },
  {
   "cell_type": "markdown",
   "metadata": {},
   "source": [
    "Include cells that describe the steps in your data analysis."
   ]
  },
  {
   "cell_type": "code",
   "execution_count": 5,
   "metadata": {},
   "outputs": [],
   "source": [
    "## YOUR CODE HERE\n",
    "## FEEL FREE TO ADD MULTIPLE CELLS PER SECTION"
   ]
  },
  {
   "cell_type": "markdown",
   "metadata": {},
   "source": [
    "# Ethics & Privacy"
   ]
  },
  {
   "cell_type": "markdown",
   "metadata": {},
   "source": [
    "*Fill in your ethics & privacy discussion here*"
   ]
  },
  {
   "cell_type": "markdown",
   "metadata": {},
   "source": [
    "# Conclusion & Discussion"
   ]
  },
  {
   "cell_type": "markdown",
   "metadata": {},
   "source": [
    "*Fill in your discussion information here*"
   ]
  },
  {
   "cell_type": "markdown",
   "metadata": {},
   "source": [
    "# Team Contributions"
   ]
  },
  {
   "cell_type": "markdown",
   "metadata": {},
   "source": [
    "*Specify who in your group worked on which parts of the project.*"
   ]
  }
 ],
 "metadata": {
  "kernelspec": {
   "display_name": "Python 3",
   "language": "python",
   "name": "python3"
  },
  "language_info": {
   "codemirror_mode": {
    "name": "ipython",
    "version": 3
   },
   "file_extension": ".py",
   "mimetype": "text/x-python",
   "name": "python",
   "nbconvert_exporter": "python",
   "pygments_lexer": "ipython3",
   "version": "3.7.6"
  }
 },
 "nbformat": 4,
 "nbformat_minor": 2
}
