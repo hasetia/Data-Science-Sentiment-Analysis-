{
 "cells": [
  {
   "cell_type": "markdown",
   "metadata": {},
   "source": [
    "# COGS 108 - Final Project Proposal - Group 9"
   ]
  },
  {
   "cell_type": "markdown",
   "metadata": {},
   "source": [
    "# Names\n",
    "\n",
    "- Dillon Ford\n",
    "- Dylan Nelson\n",
    "- Harpreet Setia\n",
    "- Thi Nguyen\n",
    "- Bryant Tran"
   ]
  },
  {
   "cell_type": "markdown",
   "metadata": {},
   "source": [
    "# Group Members IDs\n",
    "\n",
    "- A16092047\n",
    "- A15492704\n",
    "- A14731093\n",
    "- A13802850\n",
    "- A15404815"
   ]
  },
  {
   "cell_type": "markdown",
   "metadata": {},
   "source": [
    "# Research Question"
   ]
  },
  {
   "cell_type": "markdown",
   "metadata": {},
   "source": [
    "*Do the UC schools’ COVID-19 updates by word count follow similar trends to the data collected on confirmed cases in the United States, and can we use it to show how Donald Trump’s perception of the severity of COVID-19 is reflected by his tweets?*\n"
   ]
  },
  {
   "cell_type": "markdown",
   "metadata": {},
   "source": [
    "## Background and Prior Work"
   ]
  },
  {
   "cell_type": "markdown",
   "metadata": {},
   "source": [
    "### Background\n",
    "This question is of interest to our group because we are all University of California students living and furthering our education under the circumstances created by COVID-19. We are concerned with how those with authority are handling this pandemic and if there have been appropriate responses to ensure our safety is prioritized. We were led to our hypothesis by our observations of the dates across the nine University of California COVID-19 update websites and how the measured amount of action and panic through word count paralleled the dates of the rate of confirmed cases exponentially rising. This is important because the response of the president, in normal cases, is mirrored by the rest of the nation. In our case, if the UC’s had not taken action right away against the virus, the number of cases in California could have potentially skyrocketed, causing an even larger outbreak within the nation. It is known that the UC schools have taken large precautionary measures in light of COVID-19 through updates to students and staff and a temporary shutdown of in-person attendance. \n",
    "\n",
    "### Prior work\n",
    "[https://www.washingtonpost.com/graphics/2020/politics/trump-coronavirus-statements/](https://www.washingtonpost.com/graphics/2020/politics/trump-coronavirus-statements/)\n",
    "\n",
    "The article, *“From ‘It’s going to disappear’ to ‘WE WILL WIN THIS WAR’ detail how the president’s response to the coronavirus has changed since January”* by Harry Stevens, and Shelly Tan explores some of the statements made by Donald Trump in regards to COVID-19 and show a visualization of the contagion spreading. This article examines the “winding path” of the president’s response to the virus, in his own words. It begins on January 22 with a quote regarding having the infection under control and a single dot to represent the first case in the United States. February 27, there is a quote about the virus disappearing and an increase to 59 dots of confirmed cases on the visualization with 0 reported deaths. By March 29, the screen is covered in dots showing the mass spread of the contagion. This article documents a severe downplay on the seriousness of the virus by president Donald Trump.\n",
    "\n",
    "[https://projects.fivethirtyeight.com/coronavirus-polls/](https://projects.fivethirtyeight.com/coronavirus-polls/)\n",
    "\n",
    "The data report, *“How Americans View The Coronavirus Crisis And Trump’s Response”* shows what the majority of the population is worried about during this pandemic. The data shows interesting trends compared to milestones such as the First U.S. Death reported, Trump declaring a national emergency, millions start filing for unemployment, and US deaths surpass 10000. It seems a majority of Americans are more concerned with the US economy as compared to their health, as about 25% more of the population “very” much worried about the US economy once Trump had declared a national emergency on March 13. We may be able to compare or include the data/figure regarding the US populations care for getting to the virus as compared to Trump’s tweets as there is a general upward trend.\n"
   ]
  },
  {
   "cell_type": "markdown",
   "metadata": {},
   "source": [
    "# Hypothesis\n"
   ]
  },
  {
   "cell_type": "markdown",
   "metadata": {},
   "source": [
    "*Our main hypothesis is that the nine University of California campus update websites were actually reflecting the severity of the virus when compared to official COVID-19 updates using our measurement of words/day. Meanwhile, we believe President Donald Trump’s tweets did not reflect the actual severity. We are making this prediction because of our observations on how fast the virus spread and how we parallel this with President Trump’s tweets, and how we noticed them increasing over time. Meanwhile, the counterpart of this, at the UC, there have been no major outbreaks reported, showing the implementation of adequate measures.* "
   ]
  },
  {
   "cell_type": "markdown",
   "metadata": {},
   "source": [
    "# Data"
   ]
  },
  {
   "attachments": {},
   "cell_type": "markdown",
   "metadata": {},
   "source": [
    "Our data will consist of CSV’s we scraped from each of the schools’ websites, with potentially around 50 data points for each school. Our independent variable is Confirmed cases of COVID-19 in the United States while our dependent variable is UC School updates in response to COVID-19 measured by cumulative words per day, and Donald Trump tweets measured the same way.\n",
    "\n",
    "![dataTable.PNG](dataTable.PNG)\n",
    "                            - *each of the schools we are analyzing and their respective update page*"
   ]
  },
  {
   "cell_type": "markdown",
   "metadata": {},
   "source": [
    "# Ethics & Privacy"
   ]
  },
  {
   "cell_type": "markdown",
   "metadata": {},
   "source": [
    "*A possible issue regarding ethics and privacy in our group is potential bias. We are UCSD students analyzing UC school responses regarding a very serious subject. We don’t believe this will be a problem though since we aren’t applying any weights based on our judgment, it is strictly counts of words from each of our sources in set periods*\n",
    "\n",
    "*Privacy isn’t a concern either since all our data is coming from public statements made for large audiences, such as the entire nation, and are available publically. Furthermore, we are not discussing, analyzing, nor publicizing the actual content of the words, but instead just the quantity of the words, so we are not concerned about potentially pushing ideologies present in the data since the content itself won’t be present in any of our reports*"
   ]
  },
  {
   "cell_type": "markdown",
   "metadata": {},
   "source": [
    "# Team Expectations "
   ]
  },
  {
   "cell_type": "markdown",
   "metadata": {},
   "source": [
    "* Team Expectation 1:\n",
    "    * Meet weekly for meetings and updates via Discord\n",
    "* Team Expectation 2:\n",
    "    * Keeping up to date with all the messages in our group chat so we can all be informed helping\n",
    "* Team Expectation 3:\n",
    "    * Each person needs to scrape 2 different schools’ data, clean it, and have it ready for merging and visualizing in the GitHub around the same time\n"
   ]
  },
  {
   "cell_type": "markdown",
   "metadata": {},
   "source": [
    "# Project Timeline Proposal"
   ]
  },
  {
   "attachments": {},
   "cell_type": "markdown",
   "metadata": {},
   "source": [
    "![timeline.PNG](timeline.PNG)"
   ]
  }
 ],
 "metadata": {
  "kernelspec": {
   "display_name": "Python 3",
   "language": "python",
   "name": "python3"
  },
  "language_info": {
   "codemirror_mode": {
    "name": "ipython",
    "version": 3
   },
   "file_extension": ".py",
   "mimetype": "text/x-python",
   "name": "python",
   "nbconvert_exporter": "python",
   "pygments_lexer": "ipython3",
   "version": "3.6.7"
  }
 },
 "nbformat": 4,
 "nbformat_minor": 2
}
