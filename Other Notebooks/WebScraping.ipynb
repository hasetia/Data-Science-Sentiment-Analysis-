{
 "cells": [
  {
   "cell_type": "code",
   "execution_count": 1,
   "metadata": {},
   "outputs": [],
   "source": [
    "import requests\n",
    "import bs4\n",
    "import pandas as pd\n",
    "import re"
   ]
  },
  {
   "cell_type": "markdown",
   "metadata": {},
   "source": [
    "### This is the notebook of our attempt at using webscraping to get the word counts of every COVID-19 related update from 10 schools\n",
    "<p> Using pandas, beautiful soup, regex, and requests, we still struggled to make this method more efficient than simply 'copy pasting' each update into a word counter because of all the different HTML formats for the sites, and inconsisent and unreliable methods for counting the words on a page, and the sheer time it takes to code this for each site"
   ]
  },
  {
   "cell_type": "markdown",
   "metadata": {},
   "source": [
    "#### *To jump to the conclusion, click [here](#anchor)*     \n",
    "**may not work from github*\n",
    "\n"
   ]
  },
  {
   "cell_type": "markdown",
   "metadata": {},
   "source": [
    "### Using Beautiful Soup, get the main site of updates and parse the links"
   ]
  },
  {
   "cell_type": "code",
   "execution_count": 2,
   "metadata": {},
   "outputs": [],
   "source": [
    "rq = requests.get('https://chancellor.ucsb.edu/memos')\n",
    "soup = bs4.BeautifulSoup(rq.text)"
   ]
  },
  {
   "cell_type": "code",
   "execution_count": 3,
   "metadata": {},
   "outputs": [
    {
     "data": {
      "text/plain": [
       "<tr>\n",
       "<td class=\"views-field views-field-created views-align-left\">May 14, 2020        </td>\n",
       "<td class=\"views-field views-field-title views-align-left\"><a href=\"/memos/2020-05-14-covid-19-update-planning-efforts-our-path-forward\" hreflang=\"en\">COVID-19 Update: Planning Efforts for Our Path Forward</a> </td>\n",
       "</tr>"
      ]
     },
     "execution_count": 3,
     "metadata": {},
     "output_type": "execute_result"
    }
   ],
   "source": [
    "table_content = soup.find('table').find_all('tr')\n",
    "table_content[0]"
   ]
  },
  {
   "cell_type": "markdown",
   "metadata": {},
   "source": [
    "### Conveniently, the site used a table to store the links/dates, this will be used to convert it to and pandas df"
   ]
  },
  {
   "cell_type": "code",
   "execution_count": 4,
   "metadata": {},
   "outputs": [],
   "source": [
    "dates = []\n",
    "links = []\n",
    "titles = []\n",
    "for i in table_content:\n",
    "    cont = i.find_all('td')\n",
    "    dates.append(cont[0].text.strip())\n",
    "    links.append(cont[1].find('a').attrs['href'])\n",
    "    titles.append(cont[1].text)"
   ]
  },
  {
   "cell_type": "code",
   "execution_count": 5,
   "metadata": {},
   "outputs": [],
   "source": [
    "assert(len(links) == len(dates))"
   ]
  },
  {
   "cell_type": "markdown",
   "metadata": {},
   "source": [
    "### As you can see, the updates only go till Feb 7th, so we are only going to go through those"
   ]
  },
  {
   "cell_type": "code",
   "execution_count": 6,
   "metadata": {},
   "outputs": [
    {
     "data": {
      "text/html": [
       "<div>\n",
       "<style scoped>\n",
       "    .dataframe tbody tr th:only-of-type {\n",
       "        vertical-align: middle;\n",
       "    }\n",
       "\n",
       "    .dataframe tbody tr th {\n",
       "        vertical-align: top;\n",
       "    }\n",
       "\n",
       "    .dataframe thead th {\n",
       "        text-align: right;\n",
       "    }\n",
       "</style>\n",
       "<table border=\"1\" class=\"dataframe\">\n",
       "  <thead>\n",
       "    <tr style=\"text-align: right;\">\n",
       "      <th></th>\n",
       "      <th>date</th>\n",
       "      <th>title</th>\n",
       "      <th>link</th>\n",
       "    </tr>\n",
       "  </thead>\n",
       "  <tbody>\n",
       "    <tr>\n",
       "      <th>0</th>\n",
       "      <td>May 14, 2020</td>\n",
       "      <td>COVID-19 Update: Planning Efforts for Our Path...</td>\n",
       "      <td>/memos/2020-05-14-covid-19-update-planning-eff...</td>\n",
       "    </tr>\n",
       "    <tr>\n",
       "      <th>1</th>\n",
       "      <td>April 18, 2020</td>\n",
       "      <td>COVID-19 Update: Case at Nanofabrication Facil...</td>\n",
       "      <td>/memos/2020-04-18-covid-19-update-case-nanofab...</td>\n",
       "    </tr>\n",
       "    <tr>\n",
       "      <th>2</th>\n",
       "      <td>April 13, 2020</td>\n",
       "      <td>COVID-19 Update: Summer Sessions</td>\n",
       "      <td>/memos/2020-04-13-covid-19-update-summer-sessions</td>\n",
       "    </tr>\n",
       "    <tr>\n",
       "      <th>3</th>\n",
       "      <td>April 7, 2020</td>\n",
       "      <td>COVID-19 Update</td>\n",
       "      <td>/memos/2020-04-07-covid-19-update</td>\n",
       "    </tr>\n",
       "    <tr>\n",
       "      <th>4</th>\n",
       "      <td>April 2, 2020</td>\n",
       "      <td>Message from President Napolitano and the UC C...</td>\n",
       "      <td>/memos/2020-04-02-message-president-napolitano...</td>\n",
       "    </tr>\n",
       "    <tr>\n",
       "      <th>5</th>\n",
       "      <td>March 31, 2020</td>\n",
       "      <td>COVID-19 Update: Confirmed Cases in Our Commun...</td>\n",
       "      <td>/memos/2020-03-31-covid-19-update-confirmed-ca...</td>\n",
       "    </tr>\n",
       "    <tr>\n",
       "      <th>6</th>\n",
       "      <td>March 26, 2020</td>\n",
       "      <td>COVID-19 Update: Commencement</td>\n",
       "      <td>/memos/2020-03-26-covid-19-update-commencement</td>\n",
       "    </tr>\n",
       "    <tr>\n",
       "      <th>7</th>\n",
       "      <td>March 19, 2020</td>\n",
       "      <td>COVID-19 Update: Statewide Stay-at-Home Order</td>\n",
       "      <td>/memos/2020-03-19-covid-19-update-statewide-st...</td>\n",
       "    </tr>\n",
       "    <tr>\n",
       "      <th>8</th>\n",
       "      <td>March 18, 2020</td>\n",
       "      <td>COVID-19 Update: Test Results and Library Serv...</td>\n",
       "      <td>/memos/2020-03-18-covid-19-update-test-results...</td>\n",
       "    </tr>\n",
       "    <tr>\n",
       "      <th>9</th>\n",
       "      <td>March 17, 2020</td>\n",
       "      <td>COVID-19 Update: Test Result and Leave Policy</td>\n",
       "      <td>/memos/2020-03-17-covid-19-update-test-result-...</td>\n",
       "    </tr>\n",
       "    <tr>\n",
       "      <th>10</th>\n",
       "      <td>March 15, 2020</td>\n",
       "      <td>COVID-19 Update: Precautionary Measures in Isl...</td>\n",
       "      <td>/memos/2020-03-15-covid-19-update-precautionar...</td>\n",
       "    </tr>\n",
       "    <tr>\n",
       "      <th>11</th>\n",
       "      <td>March 14, 2020</td>\n",
       "      <td>COVID-19 Response Update and New Spring Quarte...</td>\n",
       "      <td>/memos/2020-03-14-covid-19-response-update-and...</td>\n",
       "    </tr>\n",
       "    <tr>\n",
       "      <th>12</th>\n",
       "      <td>March 12, 2020</td>\n",
       "      <td>COVID-19 Response Update</td>\n",
       "      <td>/memos/2020-03-12-covid-19-response-update</td>\n",
       "    </tr>\n",
       "    <tr>\n",
       "      <th>13</th>\n",
       "      <td>March 12, 2020</td>\n",
       "      <td>Graduate Dean Carol Genetti</td>\n",
       "      <td>/memos/2020-03-12-graduate-dean-carol-genetti</td>\n",
       "    </tr>\n",
       "    <tr>\n",
       "      <th>14</th>\n",
       "      <td>March 10, 2020</td>\n",
       "      <td>COVID-19 Response Update and Winter/Spring Qua...</td>\n",
       "      <td>/memos/2020-03-10-covid-19-response-update-and...</td>\n",
       "    </tr>\n",
       "    <tr>\n",
       "      <th>15</th>\n",
       "      <td>March 7, 2020</td>\n",
       "      <td>COVID-19 Response Update</td>\n",
       "      <td>/memos/2020-03-07-covid-19-response-update</td>\n",
       "    </tr>\n",
       "    <tr>\n",
       "      <th>16</th>\n",
       "      <td>February 7, 2020</td>\n",
       "      <td>Coronavirus Update and Guidance on Travel to C...</td>\n",
       "      <td>/memos/2020-02-07-coronavirus-update-and-guida...</td>\n",
       "    </tr>\n",
       "    <tr>\n",
       "      <th>17</th>\n",
       "      <td>January 15, 2020</td>\n",
       "      <td>2020 United Way Campaign</td>\n",
       "      <td>/memos/2020-01-15-2020-united-way-campaign</td>\n",
       "    </tr>\n",
       "  </tbody>\n",
       "</table>\n",
       "</div>"
      ],
      "text/plain": [
       "                date                                              title  \\\n",
       "0       May 14, 2020  COVID-19 Update: Planning Efforts for Our Path...   \n",
       "1     April 18, 2020  COVID-19 Update: Case at Nanofabrication Facil...   \n",
       "2     April 13, 2020                  COVID-19 Update: Summer Sessions    \n",
       "3      April 7, 2020                                   COVID-19 Update    \n",
       "4      April 2, 2020  Message from President Napolitano and the UC C...   \n",
       "5     March 31, 2020  COVID-19 Update: Confirmed Cases in Our Commun...   \n",
       "6     March 26, 2020                     COVID-19 Update: Commencement    \n",
       "7     March 19, 2020     COVID-19 Update: Statewide Stay-at-Home Order    \n",
       "8     March 18, 2020  COVID-19 Update: Test Results and Library Serv...   \n",
       "9     March 17, 2020     COVID-19 Update: Test Result and Leave Policy    \n",
       "10    March 15, 2020  COVID-19 Update: Precautionary Measures in Isl...   \n",
       "11    March 14, 2020  COVID-19 Response Update and New Spring Quarte...   \n",
       "12    March 12, 2020                          COVID-19 Response Update    \n",
       "13    March 12, 2020                       Graduate Dean Carol Genetti    \n",
       "14    March 10, 2020  COVID-19 Response Update and Winter/Spring Qua...   \n",
       "15     March 7, 2020                          COVID-19 Response Update    \n",
       "16  February 7, 2020  Coronavirus Update and Guidance on Travel to C...   \n",
       "17  January 15, 2020                          2020 United Way Campaign    \n",
       "\n",
       "                                                 link  \n",
       "0   /memos/2020-05-14-covid-19-update-planning-eff...  \n",
       "1   /memos/2020-04-18-covid-19-update-case-nanofab...  \n",
       "2   /memos/2020-04-13-covid-19-update-summer-sessions  \n",
       "3                   /memos/2020-04-07-covid-19-update  \n",
       "4   /memos/2020-04-02-message-president-napolitano...  \n",
       "5   /memos/2020-03-31-covid-19-update-confirmed-ca...  \n",
       "6      /memos/2020-03-26-covid-19-update-commencement  \n",
       "7   /memos/2020-03-19-covid-19-update-statewide-st...  \n",
       "8   /memos/2020-03-18-covid-19-update-test-results...  \n",
       "9   /memos/2020-03-17-covid-19-update-test-result-...  \n",
       "10  /memos/2020-03-15-covid-19-update-precautionar...  \n",
       "11  /memos/2020-03-14-covid-19-response-update-and...  \n",
       "12         /memos/2020-03-12-covid-19-response-update  \n",
       "13      /memos/2020-03-12-graduate-dean-carol-genetti  \n",
       "14  /memos/2020-03-10-covid-19-response-update-and...  \n",
       "15         /memos/2020-03-07-covid-19-response-update  \n",
       "16  /memos/2020-02-07-coronavirus-update-and-guida...  \n",
       "17         /memos/2020-01-15-2020-united-way-campaign  "
      ]
     },
     "execution_count": 6,
     "metadata": {},
     "output_type": "execute_result"
    }
   ],
   "source": [
    "df = pd.DataFrame({'date':dates, 'title': titles, 'link':links})\n",
    "df[:18]\n"
   ]
  },
  {
   "cell_type": "markdown",
   "metadata": {},
   "source": [
    "### Now I found the unique identifier for what makes up the body of the text..."
   ]
  },
  {
   "cell_type": "code",
   "execution_count": 7,
   "metadata": {},
   "outputs": [],
   "source": [
    "df_covid = df[:17]\n",
    "link = df_covid.iloc[1]['link']\n",
    "orgin = 'https://chancellor.ucsb.edu/'\n",
    "soup = bs4.BeautifulSoup(requests.get(orgin+link).text)"
   ]
  },
  {
   "cell_type": "markdown",
   "metadata": {},
   "source": [
    "* But this is a major pain because I will have to parse every link, paragraph, and list element differently. \n",
    "* This is a problem because every page may have different formats too, and possibly different classes than listed here\n",
    "* So I'm going to try and use regex to remove any tag"
   ]
  },
  {
   "cell_type": "code",
   "execution_count": 8,
   "metadata": {},
   "outputs": [],
   "source": [
    "example = soup.find_all('div', attrs = {'property':\"schema:text\"})"
   ]
  },
  {
   "cell_type": "code",
   "execution_count": 9,
   "metadata": {},
   "outputs": [
    {
     "data": {
      "text/plain": [
       "'[April 18, 2020\\nDear Members of Our Campus Community,\\nWe were informed today by a private company with access to our Nanofabrication facility in the Engineering-Sciences Building, that one of their employees who was in our facility on April 8 and 9, carrying out approved essential research, may have had COVID-19. The person did not have symptoms until April 10 and was tested several days later, and then informed their employer of testing positive. We wish them a fast, healthy recovery.\\nThe company reported that the individual, who is not affiliated with UC Santa Barbara, was only in our Nanofabrication facility and has not been back to campus since April 9, which was prior to the onset of symptoms. We were also informed that the individual '"
      ]
     },
     "execution_count": 9,
     "metadata": {},
     "output_type": "execute_result"
    }
   ],
   "source": [
    "def remove_html_tags(text):\n",
    "    \"\"\"Remove html tags from a string\"\"\"\n",
    "    clean = re.compile('<.*?>')\n",
    "    return re.sub(clean, '', text)\n",
    "cleaned = remove_html_tags(str(example))\n",
    "cleaned[:750]"
   ]
  },
  {
   "cell_type": "markdown",
   "metadata": {},
   "source": [
    "### This worked pretty well, now lets try to clear out those \\n's"
   ]
  },
  {
   "cell_type": "code",
   "execution_count": 10,
   "metadata": {},
   "outputs": [
    {
     "data": {
      "text/plain": [
       "'[April 18, 2020 Dear Members of Our Campus Community, We were informed today by a private company with access to our Nanofabrication facility in the Engineering-Sciences Building, that one of their employees who was in our facility on April 8 and 9, carrying out approved essential research, may have had COVID-19. The person did not have symptoms until April 10 and was tested several days later, and then informed their employer of testing positive. We wish them a fast, healthy recovery. The company reported that the individual, who is not affiliated with UC Santa Barbara, was only in our Nanofabrication facility and has not been back to campus since April 9, which was prior to the onset of symptoms. We were also informed that the individual '"
      ]
     },
     "execution_count": 10,
     "metadata": {},
     "output_type": "execute_result"
    }
   ],
   "source": [
    "cleaned = cleaned.replace('\\n', ' ')\n",
    "cleaned[:750]"
   ]
  },
  {
   "cell_type": "code",
   "execution_count": 11,
   "metadata": {},
   "outputs": [
    {
     "data": {
      "text/plain": [
       "498"
      ]
     },
     "execution_count": 11,
     "metadata": {},
     "output_type": "execute_result"
    }
   ],
   "source": [
    "len(cleaned.split(' '))"
   ]
  },
  {
   "cell_type": "markdown",
   "metadata": {},
   "source": [
    "### Looks good, now lets see if we can do this for all of our websites"
   ]
  },
  {
   "cell_type": "code",
   "execution_count": 12,
   "metadata": {},
   "outputs": [],
   "source": [
    "links_list = df_covid['link']\n",
    "orgin = 'https://chancellor.ucsb.edu/'\n",
    "\n",
    "total_words = []\n",
    "for link in links_list:\n",
    "    soup = bs4.BeautifulSoup(requests.get(orgin+link).text)\n",
    "    \n",
    "    # finds the unique div that contains the body of text\n",
    "    body = soup.find_all('div', attrs = {'property':\"schema:text\"})[0]\n",
    "    \n",
    "    # turns it into a sting and removes the tags and new line characters\n",
    "    cleaned = remove_html_tags(str(body))\n",
    "    cleaned = cleaned.replace('\\n', ' ')\n",
    "    total_words.append(len(cleaned.split(' ')))"
   ]
  },
  {
   "cell_type": "code",
   "execution_count": 13,
   "metadata": {},
   "outputs": [
    {
     "name": "stdout",
     "output_type": "stream",
     "text": [
      "[1546, 498, 395, 484, 74, 1262, 603, 380, 452, 428, 284, 1338, 1226, 472, 896, 1052, 684]\n"
     ]
    }
   ],
   "source": [
    "print(total_words)"
   ]
  },
  {
   "cell_type": "markdown",
   "metadata": {},
   "source": [
    "### Lets throw it back into the previous table to see how it looks"
   ]
  },
  {
   "cell_type": "code",
   "execution_count": 14,
   "metadata": {},
   "outputs": [
    {
     "data": {
      "text/html": [
       "<div>\n",
       "<style scoped>\n",
       "    .dataframe tbody tr th:only-of-type {\n",
       "        vertical-align: middle;\n",
       "    }\n",
       "\n",
       "    .dataframe tbody tr th {\n",
       "        vertical-align: top;\n",
       "    }\n",
       "\n",
       "    .dataframe thead th {\n",
       "        text-align: right;\n",
       "    }\n",
       "</style>\n",
       "<table border=\"1\" class=\"dataframe\">\n",
       "  <thead>\n",
       "    <tr style=\"text-align: right;\">\n",
       "      <th></th>\n",
       "      <th>date</th>\n",
       "      <th>title</th>\n",
       "      <th>link</th>\n",
       "      <th>word_count</th>\n",
       "    </tr>\n",
       "  </thead>\n",
       "  <tbody>\n",
       "    <tr>\n",
       "      <th>0</th>\n",
       "      <td>May 14, 2020</td>\n",
       "      <td>COVID-19 Update: Planning Efforts for Our Path...</td>\n",
       "      <td>/memos/2020-05-14-covid-19-update-planning-eff...</td>\n",
       "      <td>1546</td>\n",
       "    </tr>\n",
       "    <tr>\n",
       "      <th>1</th>\n",
       "      <td>April 18, 2020</td>\n",
       "      <td>COVID-19 Update: Case at Nanofabrication Facil...</td>\n",
       "      <td>/memos/2020-04-18-covid-19-update-case-nanofab...</td>\n",
       "      <td>498</td>\n",
       "    </tr>\n",
       "    <tr>\n",
       "      <th>2</th>\n",
       "      <td>April 13, 2020</td>\n",
       "      <td>COVID-19 Update: Summer Sessions</td>\n",
       "      <td>/memos/2020-04-13-covid-19-update-summer-sessions</td>\n",
       "      <td>395</td>\n",
       "    </tr>\n",
       "    <tr>\n",
       "      <th>3</th>\n",
       "      <td>April 7, 2020</td>\n",
       "      <td>COVID-19 Update</td>\n",
       "      <td>/memos/2020-04-07-covid-19-update</td>\n",
       "      <td>484</td>\n",
       "    </tr>\n",
       "    <tr>\n",
       "      <th>4</th>\n",
       "      <td>April 2, 2020</td>\n",
       "      <td>Message from President Napolitano and the UC C...</td>\n",
       "      <td>/memos/2020-04-02-message-president-napolitano...</td>\n",
       "      <td>74</td>\n",
       "    </tr>\n",
       "    <tr>\n",
       "      <th>5</th>\n",
       "      <td>March 31, 2020</td>\n",
       "      <td>COVID-19 Update: Confirmed Cases in Our Commun...</td>\n",
       "      <td>/memos/2020-03-31-covid-19-update-confirmed-ca...</td>\n",
       "      <td>1262</td>\n",
       "    </tr>\n",
       "  </tbody>\n",
       "</table>\n",
       "</div>"
      ],
      "text/plain": [
       "             date                                              title  \\\n",
       "0    May 14, 2020  COVID-19 Update: Planning Efforts for Our Path...   \n",
       "1  April 18, 2020  COVID-19 Update: Case at Nanofabrication Facil...   \n",
       "2  April 13, 2020                  COVID-19 Update: Summer Sessions    \n",
       "3   April 7, 2020                                   COVID-19 Update    \n",
       "4   April 2, 2020  Message from President Napolitano and the UC C...   \n",
       "5  March 31, 2020  COVID-19 Update: Confirmed Cases in Our Commun...   \n",
       "\n",
       "                                                link  word_count  \n",
       "0  /memos/2020-05-14-covid-19-update-planning-eff...        1546  \n",
       "1  /memos/2020-04-18-covid-19-update-case-nanofab...         498  \n",
       "2  /memos/2020-04-13-covid-19-update-summer-sessions         395  \n",
       "3                  /memos/2020-04-07-covid-19-update         484  \n",
       "4  /memos/2020-04-02-message-president-napolitano...          74  \n",
       "5  /memos/2020-03-31-covid-19-update-confirmed-ca...        1262  "
      ]
     },
     "execution_count": 14,
     "metadata": {},
     "output_type": "execute_result"
    }
   ],
   "source": [
    "df_covid = df_covid.assign(word_count = total_words)\n",
    "df_covid.head(6)"
   ]
  },
  {
   "cell_type": "code",
   "execution_count": 16,
   "metadata": {},
   "outputs": [],
   "source": [
    "df_covid['date'] = pd.to_datetime(df_covid['date']).dt.strftime('%d-%b-%y')\n",
    "output = df_covid[['date', 'word_count']].copy()\n",
    "output['school'] = 'Santa Barbara'\n",
    "output.to_csv('UC_Santa_Barbara.csv',index = False)"
   ]
  },
  {
   "cell_type": "markdown",
   "metadata": {},
   "source": [
    "### It seemed to work seemlessly, but lets manually find the word count using a 'word counter' application to see how well it does"
   ]
  },
  {
   "cell_type": "markdown",
   "metadata": {},
   "source": [
    "* for May 14th (the most recent), we calculated 1546 and the actual was 1542 *(diff of +4)*\n",
    "* for March 19th (the median date), we calculated 380 and the actual was 377 *(diff of +3)*\n",
    "* for February 7th (the first), we calculated 684 and the actual was 684 *(no difference)*"
   ]
  },
  {
   "cell_type": "markdown",
   "metadata": {},
   "source": [
    "# <a name=\"anchor\"></a>Conclusion\n",
    "\n",
    "#### Pros:\n",
    "* Can do all the sites in seconds when ran\n",
    "* If the sites are formated simple enough, it *can* be fast\n",
    "* Some sites *may* be similar enough to where we can just copy and paste a few variable names\n",
    "\n",
    "#### Cons:\n",
    "* Most of the sites we are analyzing aren't this simple. Some use layers of *Javascript* (such as Berkeley), which makes this whole process far more difficult\n",
    "* This whole 'analyzing each school's HTML format' is different every time. There really aren't any consistancies aside from the methods we are using\n",
    "* Overall not really any faster than just copying and pasting each update's content into a word counter and making CSV's by hand\n",
    "* **And most importantly:** these results are prone to error, and in an incosistent amount\n",
    "    * some *big* pages had *small* errors\n",
    "    * meanwhile some *small* pages had *bigger* errors\n",
    "    * unless we manually check each school for their error as well, we don't know how skewed they are either\n",
    "        * and this is even more time consuming and really defeats the purpose of doing it automated, since we are doing a portion of it manually anyways"
   ]
  },
  {
   "cell_type": "code",
   "execution_count": null,
   "metadata": {},
   "outputs": [],
   "source": []
  }
 ],
 "metadata": {
  "kernelspec": {
   "display_name": "Python 3",
   "language": "python",
   "name": "python3"
  },
  "language_info": {
   "codemirror_mode": {
    "name": "ipython",
    "version": 3
   },
   "file_extension": ".py",
   "mimetype": "text/x-python",
   "name": "python",
   "nbconvert_exporter": "python",
   "pygments_lexer": "ipython3",
   "version": "3.7.6"
  }
 },
 "nbformat": 4,
 "nbformat_minor": 4
}
