{
 "cells": [
  {
   "cell_type": "code",
   "execution_count": 16,
   "metadata": {},
   "outputs": [],
   "source": [
    "import os\n",
    "import pandas as pd"
   ]
  },
  {
   "cell_type": "code",
   "execution_count": 55,
   "metadata": {},
   "outputs": [
    {
     "name": "stdout",
     "output_type": "stream",
     "text": [
      "Error with:                   Florida_State_Univeristy.csv\n",
      "Encoding to Latin **DID** Work for: Florida_State_Univeristy.csv\n",
      "Error with:                   UC_Irvine.csv\n",
      "Encoding to Latin **DID** Work for: UC_Irvine.csv\n",
      "Error with:                   UC_Riverside.csv\n",
      "Encoding to Latin **DID** Work for: UC_Riverside.csv\n"
     ]
    }
   ],
   "source": [
    "files = os.listdir('../Datasets')\n",
    "allSchools = pd.DataFrame(columns = ['school', 'date', 'content'])\n",
    "for i in files:\n",
    "    if '.csv' in i:\n",
    "        try:\n",
    "            filepath = os.path.join('..','Datasets', i)\n",
    "            frame = pd.read_csv(filepath)[['school', 'date', 'content']] \n",
    "            allSchools = pd.concat([allSchools, frame])\n",
    "        except:\n",
    "            print('Error with: '.ljust(30) + i)\n",
    "            try:\n",
    "                filepath = os.path.join('..','Datasets', i)\n",
    "                frame = pd.read_csv(filepath, encoding='latin-1')[['school', 'date', 'content']]  \n",
    "                allSchools = pd.concat([allSchools, frame])\n",
    "                print((\"Encoding to Latin **DID** Work for: \".ljust(30) + i))\n",
    "            except:\n",
    "                print((\"Encoding DID **NOT** Work for: \".ljust(30) + i))"
   ]
  },
  {
   "cell_type": "code",
   "execution_count": 60,
   "metadata": {},
   "outputs": [],
   "source": [
    "allSchools = allSchools.reset_index(drop = True)\n",
    "pd.set_option('display.max_rows', 910)"
   ]
  },
  {
   "cell_type": "code",
   "execution_count": 63,
   "metadata": {},
   "outputs": [
    {
     "data": {
      "text/plain": [
       "(19,)"
      ]
     },
     "execution_count": 63,
     "metadata": {},
     "output_type": "execute_result"
    }
   ],
   "source": [
    "allSchools['school'].value_counts().shape"
   ]
  },
  {
   "cell_type": "code",
   "execution_count": 6,
   "metadata": {},
   "outputs": [],
   "source": []
  },
  {
   "cell_type": "code",
   "execution_count": null,
   "metadata": {},
   "outputs": [],
   "source": []
  }
 ],
 "metadata": {
  "kernelspec": {
   "display_name": "Python 3",
   "language": "python",
   "name": "python3"
  },
  "language_info": {
   "codemirror_mode": {
    "name": "ipython",
    "version": 3
   },
   "file_extension": ".py",
   "mimetype": "text/x-python",
   "name": "python",
   "nbconvert_exporter": "python",
   "pygments_lexer": "ipython3",
   "version": "3.7.6"
  }
 },
 "nbformat": 4,
 "nbformat_minor": 4
}
