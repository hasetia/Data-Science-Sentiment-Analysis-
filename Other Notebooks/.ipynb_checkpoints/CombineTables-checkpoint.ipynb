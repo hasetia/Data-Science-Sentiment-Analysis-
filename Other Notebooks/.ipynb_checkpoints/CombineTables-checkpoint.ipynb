{
 "cells": [
  {
   "cell_type": "code",
   "execution_count": 1,
   "metadata": {},
   "outputs": [],
   "source": [
    "import os\n",
    "import pandas as pd\n",
    "import re"
   ]
  },
  {
   "cell_type": "code",
   "execution_count": 2,
   "metadata": {},
   "outputs": [
    {
     "name": "stdout",
     "output_type": "stream",
     "text": [
      "Error with:                   Florida_State_Univeristy.csv\n",
      "Encoding to Latin **DID** Work for: Florida_State_Univeristy.csv\n",
      "Error with:                   UC_Irvine.csv\n",
      "Encoding to Latin **DID** Work for: UC_Irvine.csv\n",
      "Error with:                   UC_Riverside.csv\n",
      "Encoding to Latin **DID** Work for: UC_Riverside.csv\n"
     ]
    }
   ],
   "source": [
    "files = os.listdir('../Datasets')\n",
    "allSchools = pd.DataFrame(columns = ['school', 'date', 'content'])\n",
    "for i in files:\n",
    "    if '.csv' in i:\n",
    "        try:\n",
    "            filepath = os.path.join('..','Datasets', i)\n",
    "            frame = pd.read_csv(filepath)[['school', 'date', 'content']] \n",
    "            allSchools = pd.concat([allSchools, frame])\n",
    "        except:\n",
    "            print('Error with: '.ljust(30) + i)\n",
    "            try:\n",
    "                filepath = os.path.join('..','Datasets', i)\n",
    "                frame = pd.read_csv(filepath, encoding='latin-1')[['school', 'date', 'content']]  \n",
    "                allSchools = pd.concat([allSchools, frame])\n",
    "                print((\"Encoding to Latin **DID** Work for: \".ljust(30) + i))\n",
    "            except:\n",
    "                print((\"Encoding DID **NOT** Work for: \".ljust(30) + i))"
   ]
  },
  {
   "cell_type": "code",
   "execution_count": 3,
   "metadata": {},
   "outputs": [],
   "source": [
    "allSchools = allSchools.reset_index(drop = True)\n",
    "# pd.set_option('display.max_rows', 50)"
   ]
  },
  {
   "cell_type": "markdown",
   "metadata": {},
   "source": [
    "### Drop NA columns *only where we had videos*"
   ]
  },
  {
   "cell_type": "code",
   "execution_count": 4,
   "metadata": {},
   "outputs": [],
   "source": [
    "allSchools = allSchools[~allSchools['content'].isna()]"
   ]
  },
  {
   "cell_type": "markdown",
   "metadata": {},
   "source": [
    "## Adding Quantitative Data\n",
    "- Word count\n",
    "    - Replaced \\n with space, \n",
    "    - then replaced any spaces in groups of 2 or more with just 1 space\n",
    "    - then split the content on space, and find its length\n",
    "- Month number (for binning)\n",
    "    - Had to clean the year since it some didn't include the year, and some did '20' while others did '2020'\n",
    "    - Had to make sure all the years were abbreviated (converted the only case where it wasn't\n",
    "\n",
    "## Adding Categorical Data Data\n",
    "- State\n",
    "    - Made lists of the schools from each state\n",
    "    - Added column for each entry determining its state from these lists"
   ]
  },
  {
   "cell_type": "code",
   "execution_count": 5,
   "metadata": {},
   "outputs": [],
   "source": [
    "def word_count(string):\n",
    "    cont = re.sub('\\n{1,}', ' ', string)\n",
    "    cont = re.sub(' {2,}', ' ', cont)\n",
    "    return len(cont.split())"
   ]
  },
  {
   "cell_type": "code",
   "execution_count": 6,
   "metadata": {},
   "outputs": [
    {
     "data": {
      "text/html": [
       "<div>\n",
       "<style scoped>\n",
       "    .dataframe tbody tr th:only-of-type {\n",
       "        vertical-align: middle;\n",
       "    }\n",
       "\n",
       "    .dataframe tbody tr th {\n",
       "        vertical-align: top;\n",
       "    }\n",
       "\n",
       "    .dataframe thead th {\n",
       "        text-align: right;\n",
       "    }\n",
       "</style>\n",
       "<table border=\"1\" class=\"dataframe\">\n",
       "  <thead>\n",
       "    <tr style=\"text-align: right;\">\n",
       "      <th></th>\n",
       "      <th>school</th>\n",
       "      <th>date</th>\n",
       "      <th>content</th>\n",
       "      <th>word_count</th>\n",
       "    </tr>\n",
       "  </thead>\n",
       "  <tbody>\n",
       "    <tr>\n",
       "      <th>0</th>\n",
       "      <td>Florida State University</td>\n",
       "      <td>28-Feb-20</td>\n",
       "      <td>Dear FSU Family,\\n\\nFlorida State University c...</td>\n",
       "      <td>615</td>\n",
       "    </tr>\n",
       "    <tr>\n",
       "      <th>1</th>\n",
       "      <td>Florida State University</td>\n",
       "      <td>28-Feb-20</td>\n",
       "      <td>This message to all faculty and staff has been...</td>\n",
       "      <td>175</td>\n",
       "    </tr>\n",
       "    <tr>\n",
       "      <th>2</th>\n",
       "      <td>Florida State University</td>\n",
       "      <td>2-Mar-20</td>\n",
       "      <td>The spring semester programs at Florida State ...</td>\n",
       "      <td>150</td>\n",
       "    </tr>\n",
       "    <tr>\n",
       "      <th>3</th>\n",
       "      <td>Florida State University</td>\n",
       "      <td>3-Mar-20</td>\n",
       "      <td>Dear Faculty, Staff and Students,\\n\\nI want to...</td>\n",
       "      <td>256</td>\n",
       "    </tr>\n",
       "    <tr>\n",
       "      <th>4</th>\n",
       "      <td>Florida State University</td>\n",
       "      <td>3-Mar-20</td>\n",
       "      <td>Florida State University is taking aggressive ...</td>\n",
       "      <td>448</td>\n",
       "    </tr>\n",
       "  </tbody>\n",
       "</table>\n",
       "</div>"
      ],
      "text/plain": [
       "                     school       date  \\\n",
       "0  Florida State University  28-Feb-20   \n",
       "1  Florida State University  28-Feb-20   \n",
       "2  Florida State University   2-Mar-20   \n",
       "3  Florida State University   3-Mar-20   \n",
       "4  Florida State University   3-Mar-20   \n",
       "\n",
       "                                             content  word_count  \n",
       "0  Dear FSU Family,\\n\\nFlorida State University c...         615  \n",
       "1  This message to all faculty and staff has been...         175  \n",
       "2  The spring semester programs at Florida State ...         150  \n",
       "3  Dear Faculty, Staff and Students,\\n\\nI want to...         256  \n",
       "4  Florida State University is taking aggressive ...         448  "
      ]
     },
     "execution_count": 6,
     "metadata": {},
     "output_type": "execute_result"
    }
   ],
   "source": [
    "allSchools = allSchools.assign(word_count = allSchools['content'].apply(word_count))\n",
    "allSchools.head(3)"
   ]
  },
  {
   "cell_type": "code",
   "execution_count": 7,
   "metadata": {},
   "outputs": [],
   "source": [
    "cal_schools = [\"Berkeley\",\"Davis\",\"Irvine\",\"Los Angeles\",\"Merced\",\"Riverside\",\"Santa Barbara\", \"Santa Cruz\", \"Diego\"]\n",
    "tex_schools = [\"Texas State University\",  \"Austin\",\"Houston\",\"University of North Texas\", \"T_A&M_U\"]\n",
    "fl_schools = [\"Florida State University\", \"University of Central Florida\", \"Florida\", \"Miami\",\"USF\"]"
   ]
  },
  {
   "cell_type": "code",
   "execution_count": 8,
   "metadata": {},
   "outputs": [],
   "source": [
    "def give_state(string):\n",
    "    if string in cal_schools:\n",
    "        return 'cal'\n",
    "    elif string in tex_schools:\n",
    "        return 'tex'\n",
    "    elif string in fl_schools:\n",
    "        return 'fl'\n",
    "    else:\n",
    "        print('ERROR')\n",
    "        return 'ERROR'"
   ]
  },
  {
   "cell_type": "code",
   "execution_count": 9,
   "metadata": {},
   "outputs": [
    {
     "data": {
      "text/html": [
       "<div>\n",
       "<style scoped>\n",
       "    .dataframe tbody tr th:only-of-type {\n",
       "        vertical-align: middle;\n",
       "    }\n",
       "\n",
       "    .dataframe tbody tr th {\n",
       "        vertical-align: top;\n",
       "    }\n",
       "\n",
       "    .dataframe thead th {\n",
       "        text-align: right;\n",
       "    }\n",
       "</style>\n",
       "<table border=\"1\" class=\"dataframe\">\n",
       "  <thead>\n",
       "    <tr style=\"text-align: right;\">\n",
       "      <th></th>\n",
       "      <th>school</th>\n",
       "      <th>date</th>\n",
       "      <th>content</th>\n",
       "      <th>word_count</th>\n",
       "      <th>state</th>\n",
       "    </tr>\n",
       "  </thead>\n",
       "  <tbody>\n",
       "    <tr>\n",
       "      <th>0</th>\n",
       "      <td>Florida State University</td>\n",
       "      <td>28-Feb-20</td>\n",
       "      <td>Dear FSU Family,\\n\\nFlorida State University c...</td>\n",
       "      <td>615</td>\n",
       "      <td>fl</td>\n",
       "    </tr>\n",
       "    <tr>\n",
       "      <th>1</th>\n",
       "      <td>Florida State University</td>\n",
       "      <td>28-Feb-20</td>\n",
       "      <td>This message to all faculty and staff has been...</td>\n",
       "      <td>175</td>\n",
       "      <td>fl</td>\n",
       "    </tr>\n",
       "    <tr>\n",
       "      <th>2</th>\n",
       "      <td>Florida State University</td>\n",
       "      <td>2-Mar-20</td>\n",
       "      <td>The spring semester programs at Florida State ...</td>\n",
       "      <td>150</td>\n",
       "      <td>fl</td>\n",
       "    </tr>\n",
       "    <tr>\n",
       "      <th>3</th>\n",
       "      <td>Florida State University</td>\n",
       "      <td>3-Mar-20</td>\n",
       "      <td>Dear Faculty, Staff and Students,\\n\\nI want to...</td>\n",
       "      <td>256</td>\n",
       "      <td>fl</td>\n",
       "    </tr>\n",
       "    <tr>\n",
       "      <th>4</th>\n",
       "      <td>Florida State University</td>\n",
       "      <td>3-Mar-20</td>\n",
       "      <td>Florida State University is taking aggressive ...</td>\n",
       "      <td>448</td>\n",
       "      <td>fl</td>\n",
       "    </tr>\n",
       "  </tbody>\n",
       "</table>\n",
       "</div>"
      ],
      "text/plain": [
       "                     school       date  \\\n",
       "0  Florida State University  28-Feb-20   \n",
       "1  Florida State University  28-Feb-20   \n",
       "2  Florida State University   2-Mar-20   \n",
       "3  Florida State University   3-Mar-20   \n",
       "4  Florida State University   3-Mar-20   \n",
       "\n",
       "                                             content  word_count state  \n",
       "0  Dear FSU Family,\\n\\nFlorida State University c...         615    fl  \n",
       "1  This message to all faculty and staff has been...         175    fl  \n",
       "2  The spring semester programs at Florida State ...         150    fl  \n",
       "3  Dear Faculty, Staff and Students,\\n\\nI want to...         256    fl  \n",
       "4  Florida State University is taking aggressive ...         448    fl  "
      ]
     },
     "execution_count": 9,
     "metadata": {},
     "output_type": "execute_result"
    }
   ],
   "source": [
    "allSchools = allSchools.assign(state = allSchools['school'].apply(give_state))\n",
    "allSchools.head(3)"
   ]
  },
  {
   "cell_type": "code",
   "execution_count": 10,
   "metadata": {},
   "outputs": [],
   "source": [
    "def fix_year(string):\n",
    "    string = string.replace('April', 'Apr') # the only case where it wasn't abbreviated\n",
    "    if string[-4:] != '2020': #if it wasn't properly formatted\n",
    "        if string[-2:] == '20': # still had some year, but not all\n",
    "            return string+'20' #only add the last two digits\n",
    "        else: # had no year data at all\n",
    "            return string+'-2020' # add the entire year\n",
    "    else:\n",
    "        return string"
   ]
  },
  {
   "cell_type": "code",
   "execution_count": 11,
   "metadata": {},
   "outputs": [],
   "source": [
    "# fixing the date format\n",
    "allSchools = allSchools.assign(date = allSchools['date'].apply(fix_year))\n",
    "# extracting the month from each\n",
    "allSchools = allSchools.assign(month = pd.to_datetime(allSchools['date']).apply(lambda x: x.month))"
   ]
  },
  {
   "cell_type": "code",
   "execution_count": 16,
   "metadata": {},
   "outputs": [
    {
     "data": {
      "text/plain": [
       "array([2, 3, 4, 5, 1], dtype=int64)"
      ]
     },
     "execution_count": 16,
     "metadata": {},
     "output_type": "execute_result"
    }
   ],
   "source": [
    "allSchools['month'].unique()"
   ]
  },
  {
   "cell_type": "code",
   "execution_count": 18,
   "metadata": {},
   "outputs": [],
   "source": [
    "allSchools = allSchools.reset_index(drop=True)"
   ]
  },
  {
   "cell_type": "code",
   "execution_count": 20,
   "metadata": {},
   "outputs": [],
   "source": [
    "allSchools.to_csv('allSchools.csv', index = False)"
   ]
  },
  {
   "cell_type": "code",
   "execution_count": null,
   "metadata": {},
   "outputs": [],
   "source": []
  }
 ],
 "metadata": {
  "kernelspec": {
   "display_name": "Python 3",
   "language": "python",
   "name": "python3"
  },
  "language_info": {
   "codemirror_mode": {
    "name": "ipython",
    "version": 3
   },
   "file_extension": ".py",
   "mimetype": "text/x-python",
   "name": "python",
   "nbconvert_exporter": "python",
   "pygments_lexer": "ipython3",
   "version": "3.7.6"
  }
 },
 "nbformat": 4,
 "nbformat_minor": 4
}
