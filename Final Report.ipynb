{
 "cells": [
  {
   "cell_type": "markdown",
   "metadata": {},
   "source": [
    "## Final Report \n",
    "### Imports"
   ]
  },
  {
   "cell_type": "code",
   "execution_count": 1,
   "metadata": {},
   "outputs": [],
   "source": [
    "# Imports\n",
    "\n",
    "# Display plots directly in the notebook instead of in a new window\n",
    "%matplotlib inline\n",
    "\n",
    "# Import libraries\n",
    "import numpy as np\n",
    "import pandas as pd\n",
    "import matplotlib.pyplot as plt\n",
    "import seaborn as sns\n",
    "import patsy\n",
    "import statsmodels.api as sm\n",
    "import os \n",
    "from nltk.sentiment.vader import SentimentIntensityAnalyzer \n"
   ]
  },
  {
   "cell_type": "markdown",
   "metadata": {},
   "source": [
    "### Reading in the UC School csv files"
   ]
  },
  {
   "cell_type": "code",
   "execution_count": 2,
   "metadata": {},
   "outputs": [],
   "source": [
    "# Read in Berekeley\n",
    "df_ucb = pd.read_csv(os.path.join('Datasets', 'UC_Berkeley.csv'), \n",
    "                     dtype={'date': 'str', 'word_count':int, 'school':'str'})\n",
    "\n",
    "# Read in Davis\n",
    "df_ucd = pd.read_csv(os.path.join('Datasets', 'UC_Davis.csv'), \n",
    "                     dtype={'date': 'str', 'word_count':int, 'text':'str', 'school':'str'})\n",
    "\n",
    "# Read in Irvine\n",
    "#df_uci = pd.read_csv(os.path.join('Datasets', 'UC_Irvine.csv'), \n",
    "#                     dtype={'date': 'str', 'word_count':int, 'school':'str'})\n",
    "\n",
    "# Read in Los Angeles\n",
    "df_ucla = pd.read_csv(os.path.join('Datasets', 'UC_Los_Angeles.csv'), \n",
    "                      dtype={'date': 'str', 'word_count':int, 'school':'str'})\n",
    "\n",
    "# Read in Merced\n",
    "df_ucm = pd.read_csv(os.path.join('Datasets', 'UC_Merced.csv'), \n",
    "                     dtype={'date': 'str', 'word_count':int, 'content':'str', 'school':'str'})\n",
    "\n",
    "# Read in Riverside\n",
    "#df_ucr = pd.read_csv(os.path.join('Datasets', 'UC_Riverside.csv'), \n",
    "#                     dtype={'date': 'str', 'word_count':'str', 'school':'str'})\n",
    "\n",
    "# Read in San Diego\n",
    "df_ucsd = pd.read_csv(os.path.join('Datasets', 'UC_San_Diego.csv'), \n",
    "                      dtype={'date': 'str', 'word_count':'str', 'school':'str'})\n",
    "\n",
    "# Read in Santa Barbra\n",
    "df_ucsb = pd.read_csv(os.path.join('Datasets', 'UC_Santa_Barbara.csv'),\n",
    "                      dtype={'date': 'str', 'word_count':int, 'school':'str'})\n",
    "\n",
    "# Read in Santa Cruz\n",
    "df_ucsc = pd.read_csv(os.path.join('Datasets', 'UC_Santa_Cruz.csv'), \n",
    "                      dtype={'date': 'str', 'word_count':int, 'content':'str', 'school':'str'})\n"
   ]
  },
  {
   "cell_type": "markdown",
   "metadata": {},
   "source": [
    "### Take a look at UC Berkeley "
   ]
  },
  {
   "cell_type": "code",
   "execution_count": 3,
   "metadata": {},
   "outputs": [
    {
     "name": "stdout",
     "output_type": "stream",
     "text": [
      "           date    school state                                            content  word_count\n",
      "0     18-May-20  Berkeley    CA  We are writing today to share news about budge...         397\n",
      "1     16-May-20  Berkeley    CA  Members of the remarkable and resilient gradua...        1368\n",
      "2     14-May-20  Berkeley    CA  A simulated Commencement 2020 will take place ...        2291\n",
      "3     12-May-20  Berkeley    CA  Last Tuesday, our campus participated in #Givi...         887\n",
      "4     12-May-20  Berkeley    CA  There are two major budget concerns Chancellor...         354\n",
      "5      6-May-20  Berkeley    CA  We are writing today to provide an update on o...         680\n",
      "6      6-May-20  Berkeley    CA  We understand that many faculty, staff, and st...         605\n",
      "7      4-May-20  Berkeley    CA  Tomorrow is #GivingTuesdayNow, a new global da...         394\n",
      "8   29-April-20  Berkeley    CA  The Bay Area’s shelter-in-place order has been...         247\n",
      "9   23-April-20  Berkeley    CA  In response to concerns about proctoring of ex...         218\n",
      "10  23-April-20  Berkeley    CA  We understand that many students have question...         863\n",
      "11  21-April-20  Berkeley    CA  You may recall that the Centers for Disease Co...         747\n",
      "12  20-April-20  Berkeley    CA  Following is the schedule for upcoming  “Berke...         877\n",
      "13  17-April-20  Berkeley    CA  We wrote to you earlier this month to describe...         954\n",
      "14  15-April-20  Berkeley    CA  Chancellor Carol Christ has three priorities f...         295\n",
      "15   9-April-20  Berkeley    CA  You’re encouraged to cover your nose and mouth...         416\n",
      "16   6-April-20  Berkeley    CA  Last Friday UC Berkeley launched “Berkeley Con...         381\n",
      "17   3-April-20  Berkeley    CA  We write today, in recognition of Sexual Assau...         633\n",
      "18   2-April-20  Berkeley    CA  Across the UC Berkeley campus, researchers are...         740\n",
      "19   2-April-20  Berkeley    CA  Following the announcement on Friday, March 20...         265\n",
      "20   2-April-20  Berkeley    CA  This week, the city of Berkeley joined togethe...         677\n",
      "21   2-April-20  Berkeley    CA  Earlier today UC President Janet Napolitano, m...         143\n",
      "22   2-April-20  Berkeley    CA  We are writing to follow up on yesterday’s mes...         254\n",
      "23   1-April-20  Berkeley    CA  We are writing today to share the latest infor...         698\n",
      "24    31-Mar-20  Berkeley    CA  Sitting in front of their computers in homes a...         139\n",
      "25    27-Mar-20  Berkeley    CA  Tomorrow is Cesar Chavez Day, a holiday honori...         601\n",
      "26    23-Mar-20  Berkeley    CA  On Wednesday, March 25 from 11:10 a.m. to noon...         317\n",
      "27    23-Mar-20  Berkeley    CA  Many of you have reached out to inquire about ...         328\n",
      "28    20-Mar-20  Berkeley    CA  As we head into spring break, I would like to ...         740\n",
      "29    20-Mar-20  Berkeley    CA  The campus has faced tremendous challenges in ...         525\n",
      "30    20-Mar-20  Berkeley    CA  We are writing with updates related to COVID-1...         949\n",
      "31    19-Mar-20  Berkeley    CA  We understand that many students are still con...         886\n",
      "32    18-Mar-20  Berkeley    CA  The adoption of the Bay Area shelter-in-place ...         934\n",
      "33    18-Mar-20  Berkeley    CA  Our community has pulled together in positive ...         627\n",
      "34    17-Mar-20  Berkeley    CA  Over the weekend, public health officials conf...        1236\n",
      "35    17-Mar-20  Berkeley    CA                                            *video*           0\n",
      "36    16-Mar-20  Berkeley    CA  Following up on a campus wide message earlier ...        1069\n",
      "37    16-Mar-20  Berkeley    CA  In light of Alameda County and the City of Ber...         210\n",
      "38    14-Mar-20  Berkeley    CA  UPDATED Saturday, March 14, 2020, 7:45 p.m.: P...         549\n",
      "39    13-Mar-20  Berkeley    CA  With local schools temporarily closing due to ...          78\n",
      "40    13-Mar-20  Berkeley    CA  We have decided to continue to offer instructi...         878\n",
      "41    12-Mar-20  Berkeley    CA  In our prior message, we reiterated the encour...         658\n",
      "42    11-Mar-20  Berkeley    CA  As part of our ongoing effort to take proactiv...         184\n",
      "43    10-Mar-20  Berkeley    CA  We are continuing to update our response to th...         802\n",
      "44     9-Mar-20  Berkeley    CA  Today I am announcing new campus actions desig...         642\n",
      "45     6-Mar-20  Berkeley    CA  The last few weeks have been difficult as we h...         518\n",
      "46     6-Mar-20  Berkeley    CA  Here are a few excerpts, edited for length, fr...        1469\n",
      "47     6-Mar-20  Berkeley    CA  As concerns over the coronavirus (COVID-19) ou...         312\n",
      "48     6-Mar-20  Berkeley    CA  We recognize that the COVID-19 outbreak and ou...         491\n",
      "49     6-Mar-20  Berkeley    CA  We are writing today to share with you the lat...        1342\n",
      "50     4-Mar-20  Berkeley    CA  We write in follow up to our March 2 message t...         746\n",
      "51     3-Mar-20  Berkeley    CA  Local public health officials have confirmed t...         482\n",
      "52     2-Mar-20  Berkeley    CA  A. Paul Alivisatos, UC Berkeley’s executive vi...         752\n",
      "53     2-Mar-20  Berkeley    CA  As you may have learned over the weekend, publ...         436\n",
      "54    28-Feb-20  Berkeley    CA  There have been a number of new and significan...         802\n",
      "55    31-Jan-20  Berkeley    CA  News regarding the coronavirus (2019-nCoV) con...         332\n",
      "56    28-Jan-20  Berkeley    CA  We are writing to provide an update on the cor...         503\n"
     ]
    }
   ],
   "source": [
    "# Adding a 'state' column and setting its default value to 'CA'\n",
    "df_ucb['state'] = 'CA'\n",
    "\n",
    "# Dropping the 'link' column associated with each update\n",
    "df_ucb = df_ucb.drop(['link'], axis =1)\n",
    "\n",
    "# Reordering the columns into a more readable format\n",
    "df_ucb = df_ucb[['date','school','state','content','word_count']]\n",
    "\n",
    "# Printing dataframe so we can view all entries\n",
    "print(df_ucb.to_string())"
   ]
  },
  {
   "cell_type": "markdown",
   "metadata": {},
   "source": [
    "### Take a look at UC Davis "
   ]
  },
  {
   "cell_type": "code",
   "execution_count": 4,
   "metadata": {
    "scrolled": true
   },
   "outputs": [
    {
     "name": "stdout",
     "output_type": "stream",
     "text": [
      "         date school state                                            content\n",
      "0   31-Jan-20  Davis    CA  Fight it like the flu\\nUpdated 5 p.m. Jan. 31 ...\n",
      "1    1-Feb-20  Davis    CA  Yolo County info page\\nYolo County, in which t...\n",
      "2    3-Feb-20  Davis    CA  Screening at airports\\nUpdated 9 p.m. Feb. 3  ...\n",
      "3    7-Feb-20  Davis    CA  No reports of coronavirus\\nUpdated 11:30 a.m. ...\n",
      "4   10-Feb-20  Davis    CA  UC Davis Live\\nUpdated Feb. 10 Watch UC Davis ...\n",
      "5   13-Feb-20  Davis    CA  Travel FAQ\\nUpdated 11:30 p.m. Feb. 13  Global...\n",
      "6   25-Feb-20  Davis    CA  New travel notices\\nUpdated 6:55 p.m. Feb. 25 ...\n",
      "7   27-Feb-20  Davis    CA  Level 3 countries off-limits\\nUpdated 7 a.m. F...\n",
      "8   27-Feb-20  Davis    CA  COVID-19 patient\\nUpdated 7:50 a.m. Feb. 27  I...\n",
      "9   27-Feb-20  Davis    CA  3 in isolation\\nUpdated 3 p.m. Feb. 27  Chance...\n",
      "10  27-Feb-20  Davis    CA  Media availability\\nUpdated 4 p.m. Feb. 27  UC...\n",
      "11  28-Feb-20  Davis    CA  Reject xenophobia\\nUpdated 10 a.m. Feb. 28  Un...\n",
      "12  29-Feb-20  Davis    CA  Q&A posted\\nUpdated at 3 p.m. Feb. 29  Questio...\n",
      "13  29-Feb-20  Davis    CA  Elevated travel advisories\\nUpdated 5:30 p.m. ...\n",
      "14  29-Feb-20  Davis    CA  Students test: Negative\\nUpdated 5:50 p.m. Feb...\n",
      "15   5-Mar-20  Davis    CA  Time to be prepared\\nUpdated 1:45 p.m. March 5...\n",
      "16   6-Mar-20  Davis    CA  1st case in the county\\nUpdated 10:30 a.m. Mar...\n",
      "17   6-Mar-20  Davis    CA  Decision ahead\\nUpdated 4 p.m. March 6  UC Dav...\n",
      "18   6-Mar-20  Davis    CA  Expanded travel directive\\nUpdated 4 p.m. Marc...\n",
      "19   6-Mar-20  Davis    CA  Guidance for supervisors\\nUpdated 4:50 p.m. Ma...\n",
      "20   7-Mar-20  Davis    CA  Webinar for travelers\\nUpdated 5 p.m. March 7 ...\n",
      "21   7-Mar-20  Davis    CA  Maximum flexibility in instruction\\nUpdated 6 ...\n",
      "22   9-Mar-20  Davis    CA  Webinars explain Canvas\\nUpdated 1 p.m. March ...\n",
      "23  10-Mar-20  Davis    CA  New campus directives\\nUpdated 4 p.m. March 10...\n",
      "24  11-Mar-20  Davis    CA  Research continuity and planning\\nUpdated 10:3...\n",
      "25  11-Mar-20  Davis    CA  Games with no spectators\\nUpdated 10:30 p.m. M...\n",
      "26  12-Mar-20  Davis    CA  Spring commencements\\nUpdated 1 p.m. March 12 ...\n",
      "27  12-Mar-20  Davis    CA  Athletics competition suspended\\nUpdated 3:30 ...\n",
      "28  13-Mar-20  Davis    CA  Avoid international travel\\nUpdated 11 a.m. Ma...\n",
      "29  13-Mar-20  Davis    CA  Yolo has 2nd positive test\\nUpdated 7 p.m. Mar...\n",
      "30  14-Mar-20  Davis    CA  Remote instruction in spring\\nUpdated 3 p.m. M...\n",
      "31  15-Mar-20  Davis    CA  Attendance cap now 50\\nUpdated 8:30 p.m. March...\n",
      "32  16-Mar-20  Davis    CA  Study Abroad suspended\\nUpdated 1:20 p.m. Marc...\n",
      "33  17-Mar-20  Davis    CA  Leave for academic appointees\\nUpdated 4:30 p....\n",
      "34  17-Mar-20  Davis    CA  Campus grows quiet\\nUpdated 4:30 p.m. March 17...\n",
      "35  17-Mar-20  Davis    CA  Information line\\nUpdated 6 p.m. March 17  Whi...\n",
      "36  18-Mar-20  Davis    CA  How to report positive tests\\nUpdated 6 a.m. M...\n",
      "37  18-Mar-20  Davis    CA  Unitrans: Weekend Service\\nUpdated 8:45 a.m. M...\n",
      "38  18-Mar-20  Davis    CA  Campus operations suspended\\nUpdated 11:25 a.m...\n",
      "39  19-Mar-20  Davis    CA  Global travel advisory\\nUpdated 3 p.m. March 1...\n",
      "40  19-Mar-20  Davis    CA  Stay-at-home order\\nUpdated 8:30 p.m. March 19...\n",
      "41  25-Mar-20  Davis    CA  PPE collection underway\\nUpdated 1 p.m. March ...\n",
      "42   1-Apr-20  Davis    CA  UC eases admissions requirements \\nUpdated 11:...\n",
      "43   7-Apr-20  Davis    CA  Updated 1:50 p.m. April 7  When Chancellor Gar...\n"
     ]
    }
   ],
   "source": [
    "# Renaming text column to content\n",
    "df_ucd = df_ucd.rename(columns = {'text':'content'})\n",
    "\n",
    "# Adding a 'state' column and setting its default value to 'CA'\n",
    "df_ucd['state'] = 'CA'\n",
    "\n",
    "# Reordering the columns into a more readable format\n",
    "df_ucd = df_ucd[['date','school','state','content']]\n",
    "\n",
    "# Printing dataframe so we can view all entries\n",
    "print(df_ucd.to_string())"
   ]
  },
  {
   "cell_type": "markdown",
   "metadata": {},
   "source": [
    "### Take a look at UC Irvine "
   ]
  },
  {
   "cell_type": "code",
   "execution_count": 5,
   "metadata": {},
   "outputs": [
    {
     "ename": "NameError",
     "evalue": "name 'df_uci' is not defined",
     "output_type": "error",
     "traceback": [
      "\u001b[1;31m---------------------------------------------------------------------------\u001b[0m",
      "\u001b[1;31mNameError\u001b[0m                                 Traceback (most recent call last)",
      "\u001b[1;32m<ipython-input-5-2b9f87061b4c>\u001b[0m in \u001b[0;36m<module>\u001b[1;34m\u001b[0m\n\u001b[0;32m      1\u001b[0m \u001b[1;31m# Take a look at Irvine\u001b[0m\u001b[1;33m\u001b[0m\u001b[1;33m\u001b[0m\u001b[1;33m\u001b[0m\u001b[0m\n\u001b[1;32m----> 2\u001b[1;33m \u001b[0mdf_uci\u001b[0m\u001b[1;33m[\u001b[0m\u001b[1;34m'state'\u001b[0m\u001b[1;33m]\u001b[0m \u001b[1;33m=\u001b[0m \u001b[1;34m'CA'\u001b[0m\u001b[1;33m\u001b[0m\u001b[1;33m\u001b[0m\u001b[0m\n\u001b[0m\u001b[0;32m      3\u001b[0m \u001b[0mdf_uci\u001b[0m\u001b[1;33m.\u001b[0m\u001b[0mhead\u001b[0m\u001b[1;33m(\u001b[0m\u001b[1;33m)\u001b[0m\u001b[1;33m\u001b[0m\u001b[1;33m\u001b[0m\u001b[0m\n",
      "\u001b[1;31mNameError\u001b[0m: name 'df_uci' is not defined"
     ]
    }
   ],
   "source": [
    "# Take a look at Irvine\n",
    "df_uci['state'] = 'CA'\n",
    "df_uci.head()"
   ]
  },
  {
   "cell_type": "markdown",
   "metadata": {},
   "source": [
    "### Take a look at UC Los Angeles "
   ]
  },
  {
   "cell_type": "code",
   "execution_count": null,
   "metadata": {},
   "outputs": [],
   "source": [
    "# Adding a 'state' column and setting its default value to 'CA'\n",
    "df_ucla['state'] = 'CA'\n",
    "\n",
    "# Reordering the columns into a more readable format\n",
    "df_ucla = df_ucla[['date','school','state','word_count']]\n",
    "\n",
    "# Printing dataframe so we can view all entries\n",
    "print(df_ucla.to_string())"
   ]
  },
  {
   "cell_type": "markdown",
   "metadata": {},
   "source": [
    "### Take a look at UC Merced "
   ]
  },
  {
   "cell_type": "code",
   "execution_count": null,
   "metadata": {},
   "outputs": [],
   "source": [
    "# Adding a 'state' column and setting its default value to 'CA'\n",
    "df_ucm['state'] = 'CA'\n",
    "\n",
    "# Reordering the columns into a more readable format\n",
    "df_ucm = df_ucm[['date','school','state','content', 'word_count']]\n",
    "\n",
    "# Printing dataframe so we can view all entries\n",
    "print(df_ucm.to_string())"
   ]
  },
  {
   "cell_type": "markdown",
   "metadata": {},
   "source": [
    "### Take a look at UC Riverside "
   ]
  },
  {
   "cell_type": "code",
   "execution_count": null,
   "metadata": {},
   "outputs": [],
   "source": [
    "# Adding a 'state' column and setting its default value to 'CA'\n",
    "df_ucr['state'] = 'CA'\n",
    "df_ucr.head()"
   ]
  },
  {
   "cell_type": "markdown",
   "metadata": {},
   "source": [
    "### Take a look at UC San Diego "
   ]
  },
  {
   "cell_type": "code",
   "execution_count": null,
   "metadata": {},
   "outputs": [],
   "source": [
    "# Adding a 'state' column and setting its default value to 'CA'\n",
    "df_ucsd['state'] = 'CA'\n",
    "\n",
    "# Reordering the columns into a more readable format\n",
    "df_ucsd = df_ucsd[['date','school','state','word_count']]\n",
    "\n",
    "# Printing dataframe so we can view all entries\n",
    "print(df_ucsd.to_string()) # You will notice NaNs at the bottom of the data frame"
   ]
  },
  {
   "cell_type": "code",
   "execution_count": null,
   "metadata": {},
   "outputs": [],
   "source": [
    "# Dropping the empty rows at the bottom of df_ucsd\n",
    "df_ucsd = df_ucsd.dropna()\n",
    "\n",
    "# Now that the 4 rows with missing data on the bottom with the NaN values have been removed \n",
    "# We can convert word_count column back into an integer\n",
    "convert_dict = {'word_count': int}\n",
    "df_ucsd = df_ucsd.astype(convert_dict)\n",
    "\n",
    "# Check out our updated df_ucsd\n",
    "print(df_ucsd.to_string()) "
   ]
  },
  {
   "cell_type": "markdown",
   "metadata": {},
   "source": [
    "### Take a look at UC Santa Barbara "
   ]
  },
  {
   "cell_type": "code",
   "execution_count": null,
   "metadata": {},
   "outputs": [],
   "source": [
    "# Adding a 'state' column and setting its default value to 'CA'\n",
    "df_ucsb['state'] = 'CA'\n",
    "df_ucsb = df_ucsb.drop(['link'], axis =1)\n",
    "\n",
    "# Reordering the columns into a more readable format\n",
    "df_ucsb = df_ucsb[['date','school','state','content', 'word_count']]\n",
    "\n",
    "# Printing dataframe so we can view all entries\n",
    "print(df_ucsb.to_string())"
   ]
  },
  {
   "cell_type": "markdown",
   "metadata": {},
   "source": [
    "### Take a look at Santa Cruz"
   ]
  },
  {
   "cell_type": "code",
   "execution_count": null,
   "metadata": {},
   "outputs": [],
   "source": [
    "# Adding a 'state' column and setting its default value to 'CA'\n",
    "df_ucsc['state'] = 'CA'\n",
    "\n",
    "# Reordering the columns into a more readable format\n",
    "df_ucsc = df_ucsc[['date','school','state','content', 'word_count']]\n",
    "\n",
    "# Printing dataframe so we can view all entries\n",
    "print(df_ucsc.to_string())"
   ]
  },
  {
   "cell_type": "markdown",
   "metadata": {},
   "source": [
    "### Combining all of our UC data frames"
   ]
  },
  {
   "cell_type": "code",
   "execution_count": null,
   "metadata": {},
   "outputs": [],
   "source": [
    "# concatenating the dataframes together\n",
    "df = pd.concat([df_ucsc, df_ucm, df_ucd, df_ucb, df_ucsd, df_ucsb, df_ucla], sort= True)\n",
    "df = df[['date','school','state','content', 'word_count']]\n",
    "\n",
    "# looking at the entire dataframe\n",
    "print(df.to_string())"
   ]
  },
  {
   "cell_type": "markdown",
   "metadata": {},
   "source": [
    "### Reading in Texas school csv files"
   ]
  },
  {
   "cell_type": "code",
   "execution_count": null,
   "metadata": {},
   "outputs": [],
   "source": [
    "# Read in Texas State University (UNICODEDECODE ERRROR!!!) GGEZ\n",
    "#df_tsu = pd.read_csv(os.path.join('Datasets', 'Texas_State_University.csv'), \n",
    "#                     dtype={'date': 'str', 'word_count':int, 'school':'str'})"
   ]
  },
  {
   "cell_type": "code",
   "execution_count": null,
   "metadata": {},
   "outputs": [],
   "source": []
  }
 ],
 "metadata": {
  "kernelspec": {
   "display_name": "Python 3",
   "language": "python",
   "name": "python3"
  },
  "language_info": {
   "codemirror_mode": {
    "name": "ipython",
    "version": 3
   },
   "file_extension": ".py",
   "mimetype": "text/x-python",
   "name": "python",
   "nbconvert_exporter": "python",
   "pygments_lexer": "ipython3",
   "version": "3.7.4"
  }
 },
 "nbformat": 4,
 "nbformat_minor": 4
}
